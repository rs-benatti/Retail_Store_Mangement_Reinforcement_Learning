{
  "cells": [
    {
      "cell_type": "markdown",
      "id": "5288e304",
      "metadata": {
        "id": "5288e304"
      },
      "source": [
        "# Retail Store Management\n",
        "\n"
      ]
    },
    {
      "cell_type": "markdown",
      "id": "7d1fc9e5",
      "metadata": {
        "id": "7d1fc9e5"
      },
      "source": [
        "We'll consider a retail store management.\n",
        "\n",
        "You own a bike store. During week $t$, the demand is $D_t$ units, which we may assume to be $\\operatorname{Poisson}(d)$ distributed, independently of the past. On Monday morning you may choose to command $A_t$ additional units that are delivered immediately before the shop opens. For each week,\n",
        "\n",
        "- Maintenance Cost: $h$ per unit left in your stock from previous week\n",
        "- Ordering Cost: $c$ per ordered unit\n",
        "- Sales Profit: $f$ per sold unit\n",
        "\n",
        "With the following constraints\n",
        "\n",
        "- Your warehouse has a maximal capacity of $m$ unit (any additional bike gets stolen)\n",
        "- You cannot sell bikes that you don’t have in stock\n",
        "\n",
        "We will consider that $\\mathcal{A}=\\mathcal{S}=\\{0,\\dots,m\\}$ and the MDP evolves according to\n",
        "\n",
        "- $D_t \\sim \\operatorname{Poisson}(d)$\n",
        "- $R_t = -h S_t -c A_t + f \\min(D_t, S_t + A_t, m)$\n",
        "- $S_{t+1} = \\max(0, \\min(S_t+A_t,m)-D_t)$"
      ]
    },
    {
      "cell_type": "code",
      "execution_count": 2,
      "id": "cfb47478",
      "metadata": {
        "id": "cfb47478"
      },
      "outputs": [],
      "source": [
        "import math\n",
        "import numpy as np\n",
        "from scipy.stats import poisson\n",
        "import matplotlib.pyplot as plt"
      ]
    },
    {
      "cell_type": "markdown",
      "id": "59d41b76",
      "metadata": {
        "id": "59d41b76"
      },
      "source": [
        "## The Retail Store Environment\n",
        "\n",
        "The <code>RetailStore</code> class defines the environnement, providing the basic functions for interacting with the system (<code>env.reset</code> and <code>env.step</code>) and for computing basic parameter-dependent quantities (reward and transition functions, value function of a policy)."
      ]
    },
    {
      "cell_type": "code",
      "execution_count": 3,
      "id": "198d462a",
      "metadata": {
        "id": "198d462a"
      },
      "outputs": [],
      "source": [
        "# Utility functions for the Retail store environment\n",
        "\n",
        "class RetailStore:\n",
        "    def __init__(self, m, h, c, f, d):\n",
        "        self.m = m # Stock capacity\n",
        "        self.h = h # Maintenance cost per unit\n",
        "        self.c = c # Buying price per unit\n",
        "        self.f = f # Selling price per unit\n",
        "        self.d = d # Weekly average demand\n",
        "\n",
        "    def reset(self, state):\n",
        "        \"\"\" Restarts the environment at time 0 in specified state. \"\"\"\n",
        "        self.state = state\n",
        "        self.time = 0\n",
        "\n",
        "    def step(self, action):\n",
        "        \"\"\" Given the action, performs one call to the environment and return the reward. \"\"\"\n",
        "        reward, self.state = self.sample(action)\n",
        "        self.time += 1\n",
        "        return reward\n",
        "\n",
        "    def sample(self, action):\n",
        "        \"\"\" Utility function to sample reward and next state. \"\"\"\n",
        "        demand = poisson.rvs(self.d)\n",
        "        reward = -self.h*self.state -self.c*action + self.f*min([demand, self.state+action, self.m])\n",
        "        next_state = max([min([self.state+action, self.m])-demand, 0])\n",
        "        return reward, next_state\n",
        "\n",
        "    def reward_function(self):\n",
        "        \"\"\" Computes the action-depend reward function r(s,a). \"\"\"\n",
        "        r = np.zeros((self.m+1, self.m+1))\n",
        "        for s in range(self.m+1):\n",
        "            for a in range(self.m+1):\n",
        "                # Note: computing the expectation of the truncated Poisson distribution using the survival function\n",
        "                r[s, a] = -self.h*s -self.c*a + self.f*sum(poisson.sf(np.linspace(0, min(s+a, self.m)-1, num=min(s+a, self.m)), self.d))\n",
        "        return r\n",
        "\n",
        "    def transition_function(self):\n",
        "        \"\"\" Computes the action-depend transition probabilities p(s,a,s'). \"\"\"\n",
        "        p = np.zeros((self.m+1, self.m+1, self.m+1))\n",
        "        for s in range(self.m+1):\n",
        "            for a in range(self.m+1):\n",
        "                for i in range(min(s+a, self.m)):\n",
        "                    p[s, a, min(s+a, self.m)-i] = poisson.pmf(i, self.d)\n",
        "                p[s, a, 0] = poisson.sf(min(s+a, self.m)-1, self.d)\n",
        "        return p\n",
        "\n",
        "    def reward_policy(self, pi):\n",
        "        \"\"\" Computes the reward function r_pi(s) associated with a policy. \"\"\"\n",
        "        r = self.reward_function()\n",
        "        r_pi = np.sum(np.multiply(r, pi), axis=1)\n",
        "        return r_pi\n",
        "\n",
        "    def transition_policy(self, pi):\n",
        "        \"\"\" Computes the transition probabilities p_pi(s,s') associated with a policy. \"\"\"\n",
        "        p = self.transition_function()\n",
        "        p_pi = np.zeros((self.m+1, self.m+1))\n",
        "        for s in range(self.m+1):\n",
        "            p_pi[s,:] = np.matmul(np.transpose(pi[s,:]), p[s,:,:])\n",
        "        return p_pi\n",
        "\n",
        "    def value_policy(self, pi, gamma):\n",
        "        \"\"\" Computes the value function of a policy, with discount gamma (using matrix inversion). \"\"\"\n",
        "        r_pi = self.reward_policy(pi)\n",
        "        p_pi = self.transition_policy(pi)\n",
        "        v_pi = np.linalg.solve(np.eye(self.m+1) - gamma* p_pi, r_pi)\n",
        "        return v_pi"
      ]
    },
    {
      "cell_type": "markdown",
      "id": "600c583e",
      "metadata": {
        "id": "600c583e"
      },
      "source": [
        "## Experiments"
      ]
    },
    {
      "cell_type": "markdown",
      "id": "4a78db98",
      "metadata": {
        "id": "4a78db98"
      },
      "source": [
        "### Simulation of Fixed Ordering Policies\n",
        "\n",
        "We will consider a small-size model in which $[m, h, c, f, d, \\gamma] = [9, 0.1, 0.5, 1, 4, 0.875]$ "
      ]
    },
    {
      "cell_type": "markdown",
      "id": "IfUiA-1fhEr1",
      "metadata": {
        "id": "IfUiA-1fhEr1"
      },
      "source": [
        "\n",
        "- Maintenance Cost: $h$ per unit left in your stock from previous week\n",
        "- Ordering Cost: $c$ per ordered unit\n",
        "- Sales Profit: $f$ per sold unit\n",
        "- Maximal Capacity: $m$\n",
        "We will consider that $\\mathcal{A}=\\mathcal{S}=\\{0,\\dots,m\\}$ and the MDP evolves according to\n",
        "\n",
        "- $D_t \\sim \\operatorname{Poisson}(d)$\n",
        "- $R_t = -h S_t -c A_t + f \\min(D_t, S_t + A_t, m)$\n",
        "- $S_{t+1} = \\max(0, \\min(S_t+A_t,m)-D_t)$"
      ]
    },
    {
      "cell_type": "code",
      "execution_count": 4,
      "id": "6b3679a5",
      "metadata": {
        "colab": {
          "base_uri": "https://localhost:8080/",
          "height": 673
        },
        "id": "6b3679a5",
        "outputId": "9c79e523-6750-47cd-99d4-01b33cb58187"
      },
      "outputs": [
        {
          "name": "stdout",
          "output_type": "stream",
          "text": [
            "0 :  -2.4  -> 9\n",
            "1 :  2.6  -> 4\n",
            "2 :  0.1  -> 5\n",
            "3 :  0.0  -> 6\n",
            "4 :  1.9  -> 5\n",
            "5 :  3.0  -> 3\n",
            "6 :  -1.8  -> 6\n",
            "7 :  1.9  -> 5\n",
            "8 :  6.0  -> 0\n",
            "9 :  0.5  -> 1\n",
            "10 :  0.4  -> 2\n",
            "11 :  -0.7  -> 4\n",
            "Discounted reward: 4.7\n"
          ]
        },
        {
          "data": {
            "text/plain": [
              "<matplotlib.legend.Legend at 0x2107c9825b0>"
            ]
          },
          "execution_count": 4,
          "metadata": {},
          "output_type": "execute_result"
        },
        {
          "data": {
            "image/png": "[encoded data removed]",
            "text/plain": [
              "<Figure size 640x480 with 1 Axes>"
            ]
          },
          "metadata": {},
          "output_type": "display_data"
        }
      ],
      "source": [
        "# Instantiate the retail store environment with the selected parameters\n",
        "[m, h, c, f, d, gamma] = [9, 0.1, 0.5, 1, 4, 0.875]\n",
        "env = RetailStore(m, h, c, f, d)\n",
        "\n",
        "# Just an example of simulating a short trajectory and computing the cumulated reward\n",
        "action = 3\n",
        "env.reset(m)\n",
        "n = 12\n",
        "w = 1\n",
        "v = 0\n",
        "for _ in range(n):\n",
        "    x = env.step(action)\n",
        "    print(env.time-1, ': ', '{:.1f}'.format(x), ' ->', env.state)\n",
        "    v += w*x\n",
        "    w *= gamma\n",
        "print('Discounted reward:', '{:.1f}'.format(v))\n",
        "\n",
        "pi = np.zeros((m + 1, m + 1)) # Policy\n",
        "pi[:, 0] = 1\n",
        "plt.plot(env.value_policy(pi, gamma), label=\"Action = 0\")\n",
        "pi = np.zeros((m + 1, m + 1)) # Policy\n",
        "pi[:, 1] = 1\n",
        "plt.plot(env.value_policy(pi, gamma), label=\"Action = 1\")\n",
        "pi = np.zeros((m + 1, m + 1)) # Policy\n",
        "pi[:, 2] = 1\n",
        "plt.plot(env.value_policy(pi, gamma), label=\"Action = 2\")\n",
        "pi = np.zeros((m + 1, m + 1)) # Policy\n",
        "pi[:, 3] = 1\n",
        "plt.plot(env.value_policy(pi, gamma), label=\"Action = 3\")\n",
        "pi = np.zeros((m + 1, m + 1)) # Policy\n",
        "pi[:, 4] = 1\n",
        "plt.plot(env.value_policy(pi, gamma), label=\"Action = 4\")\n",
        "\n",
        "\n",
        "plt.legend()"
      ]
    },
    {
      "cell_type": "markdown",
      "id": "a1bd79a7",
      "metadata": {
        "id": "a1bd79a7"
      },
      "source": [
        "Choice of parameters:\n",
        "\n",
        "- Maximal Capacity: $m = 9$ A small maximal capacity main reduce the reward function in our case since we calculate self.f*min([demand, self.state+action, self.m])\n",
        "\n",
        "- Maintenance Cost: $h = 0.1$ The bigger less bicycles we tend to have in our stock since it decreases the reward function if we have too many bicycles.\n",
        "- Ordering Cost: $c = 0.5$ It influences the reward function in a similar way to the maintenance cost.\n",
        "- Sales Profit: $f = 1$ The sales profit controls the influence (like the weight of a regularizatioon term) stochastic part of our reward function since the demand is sampled from a probabilist distribution (is stochastic).\n",
        "\n",
        "- The parameter $d = 4$ also influences in the stochastic part, but it determines how scattered is the distribution from which we sample.\n",
        "\n",
        "- The parameter $\\gamma = 0.875$ is the discount factor of the reward function. It's used so the model prioritize immediate rewards mroe then the future ones, since they are more uncertain.\n",
        "\n",
        "\n",
        "Taking the same action multiple times yields similar results (using the same action) if we run the simulation multiple times, it could perform better, since we can use our reward function to estimate our best action. As we can see in the plot our value function depends on the choice of the action to be taken. I think we can find better policies, for example one policy that orders less bikes if we have the stock almost full."
      ]
    },
    {
      "cell_type": "markdown",
      "id": "09405ebc",
      "metadata": {
        "id": "09405ebc"
      },
      "source": [
        "### Computing the Optimal Policy by Policy Iteration\n"
      ]
    },
    {
      "cell_type": "code",
      "execution_count": 10,
      "id": "a7d7b2fb",
      "metadata": {
        "colab": {
          "base_uri": "https://localhost:8080/"
        },
        "id": "a7d7b2fb",
        "outputId": "700213a1-c145-480e-b311-dd16e4feaf24"
      },
      "outputs": [
        {
          "name": "stdout",
          "output_type": "stream",
          "text": [
            "[[0 0 0 0 1 0 0 0 0 0]\n",
            " [0 0 0 1 0 0 0 0 0 0]\n",
            " [0 0 1 0 0 0 0 0 0 0]\n",
            " [0 1 0 0 0 0 0 0 0 0]\n",
            " [1 0 0 0 0 0 0 0 0 0]\n",
            " [1 0 0 0 0 0 0 0 0 0]\n",
            " [1 0 0 0 0 0 0 0 0 0]\n",
            " [1 0 0 0 0 0 0 0 0 0]\n",
            " [1 0 0 0 0 0 0 0 0 0]\n",
            " [1 0 0 0 0 0 0 0 0 0]]\n",
            "[[0 0 0 0 0 1 0 0 0 0]\n",
            " [0 0 0 0 1 0 0 0 0 0]\n",
            " [0 0 0 1 0 0 0 0 0 0]\n",
            " [0 0 1 0 0 0 0 0 0 0]\n",
            " [0 1 0 0 0 0 0 0 0 0]\n",
            " [1 0 0 0 0 0 0 0 0 0]\n",
            " [1 0 0 0 0 0 0 0 0 0]\n",
            " [1 0 0 0 0 0 0 0 0 0]\n",
            " [1 0 0 0 0 0 0 0 0 0]\n",
            " [1 0 0 0 0 0 0 0 0 0]]\n",
            "[[0 0 0 0 0 1 0 0 0 0]\n",
            " [0 0 0 0 1 0 0 0 0 0]\n",
            " [0 0 0 1 0 0 0 0 0 0]\n",
            " [0 0 1 0 0 0 0 0 0 0]\n",
            " [0 1 0 0 0 0 0 0 0 0]\n",
            " [1 0 0 0 0 0 0 0 0 0]\n",
            " [1 0 0 0 0 0 0 0 0 0]\n",
            " [1 0 0 0 0 0 0 0 0 0]\n",
            " [1 0 0 0 0 0 0 0 0 0]\n",
            " [1 0 0 0 0 0 0 0 0 0]]\n",
            "[[0 0 0 0 0 1 0 0 0 0]\n",
            " [0 0 0 0 1 0 0 0 0 0]\n",
            " [0 0 0 1 0 0 0 0 0 0]\n",
            " [0 0 1 0 0 0 0 0 0 0]\n",
            " [0 1 0 0 0 0 0 0 0 0]\n",
            " [1 0 0 0 0 0 0 0 0 0]\n",
            " [1 0 0 0 0 0 0 0 0 0]\n",
            " [1 0 0 0 0 0 0 0 0 0]\n",
            " [1 0 0 0 0 0 0 0 0 0]\n",
            " [1 0 0 0 0 0 0 0 0 0]]\n",
            "[[0 0 0 0 0 1 0 0 0 0]\n",
            " [0 0 0 0 1 0 0 0 0 0]\n",
            " [0 0 0 1 0 0 0 0 0 0]\n",
            " [0 0 1 0 0 0 0 0 0 0]\n",
            " [0 1 0 0 0 0 0 0 0 0]\n",
            " [1 0 0 0 0 0 0 0 0 0]\n",
            " [1 0 0 0 0 0 0 0 0 0]\n",
            " [1 0 0 0 0 0 0 0 0 0]\n",
            " [1 0 0 0 0 0 0 0 0 0]\n",
            " [1 0 0 0 0 0 0 0 0 0]]\n"
          ]
        }
      ],
      "source": [
        "\n",
        "# Initialize environment and parameters\n",
        "m, h, c, f, d, gamma = [9, 0.1, 0.5, 1, 4, 0.875]\n",
        "env = RetailStore(m, h, c, f, d)\n",
        "pi = np.random.randint(0, 1, size=(m + 1, m + 1))  # Arbitrary initial policy\n",
        "v = env.value_policy(pi, gamma)\n",
        "\n",
        "def greedy_policy(env, gamma, v):\n",
        "  q = np.zeros((m+1, m+1))\n",
        "  for s in range(m):\n",
        "    for a in range(m):\n",
        "      q[s, a] = env.reward_function()[s, a] + gamma * np.sum(env.transition_function()[s, a, :] * v)\n",
        "  optimal_actions = np.argmax(q, axis=1)\n",
        "  return q, optimal_actions\n",
        "for i in range(5):\n",
        "  v = env.value_policy(pi, gamma)\n",
        "  q, optimal_actions = greedy_policy(env, gamma, v)\n",
        "  for s, optimal_action in enumerate(optimal_actions):\n",
        "    pi[s] = np.eye(m+1)[optimal_action]\n",
        "  print(pi)\n",
        "# Optimal policy has converged in 'pi'"
      ]
    },
    {
      "cell_type": "markdown",
      "id": "8302b237",
      "metadata": {
        "id": "8302b237"
      },
      "source": [
        "\n",
        "We know it converged because the policy stabilized and remained the same after some iterations. The optimal policy tell us which is the best action for a given state in a deterministic way."
      ]
    },
    {
      "cell_type": "markdown",
      "id": "f87f6b12",
      "metadata": {
        "id": "f87f6b12"
      },
      "source": [
        "### Q Learning"
      ]
    },
    {
      "cell_type": "code",
      "execution_count": null,
      "id": "4br1mG_qUeAF",
      "metadata": {
        "id": "4br1mG_qUeAF"
      },
      "outputs": [],
      "source": [
        "pi = np.ones((m + 1, m + 1)) / (m + 1)\n",
        "v = env.value_policy(pi, gamma)\n",
        "#Q, _ = greedy_policy(env, gamma, v)\n",
        "Q = np.random.rand(m+1, m+1)"
      ]
    },
    {
      "cell_type": "code",
      "execution_count": 8,
      "id": "360d9bdc",
      "metadata": {
        "colab": {
          "base_uri": "https://localhost:8080/"
        },
        "id": "360d9bdc",
        "outputId": "97c45e79-eba8-4e40-a12b-3c472236406b"
      },
      "outputs": [
        {
          "name": "stdout",
          "output_type": "stream",
          "text": [
            "[[ 0.          0.          0.          0.          0.         12.40571078\n",
            "   0.          0.          0.          0.        ]\n",
            " [ 0.          0.          0.          0.         12.74745806  0.\n",
            "   0.          0.          0.          0.        ]\n",
            " [ 0.          0.          0.         13.24566599  0.          0.\n",
            "   0.          0.          0.          0.        ]\n",
            " [ 0.          0.         13.60961267  0.          0.          0.\n",
            "   0.          0.          0.          0.        ]\n",
            " [ 0.         13.96488174  0.          0.          0.          0.\n",
            "   0.          0.          0.          0.        ]\n",
            " [14.36469881  0.          0.          0.          0.          0.\n",
            "   0.          0.          0.          0.        ]\n",
            " [ 0.          0.          0.          0.          0.          0.\n",
            "   0.          0.          0.          0.        ]\n",
            " [ 0.          0.          0.          0.          0.          0.\n",
            "   0.          0.          0.          0.        ]\n",
            " [ 0.          0.          0.          0.          0.          0.\n",
            "   0.          0.          0.          0.        ]\n",
            " [ 1.1         0.          0.          0.          0.          0.\n",
            "   0.          0.          0.          0.        ]]\n",
            "[5 4 3 2 1 0 0 0 0 0]\n"
          ]
        }
      ],
      "source": [
        "n = 10000\n",
        "env.reset(m)\n",
        "Q = np.zeros((m+1, m+1))\n",
        "beta = 0.7\n",
        "number_of_visits = np.zeros((m+1, m+1))\n",
        "\n",
        "for i in range(n):\n",
        "    action = np.random.choice(len(pi[env.state]), p=pi[env.state])\n",
        "    number_of_visits[env.state, action] += 1\n",
        "    reward, next_state = env.sample(action)\n",
        "    max_next_action = np.argmax(Q[next_state, :])\n",
        "    td_target = reward + gamma * Q[next_state, max_next_action]\n",
        "    td_error = td_target - Q[env.state, action]\n",
        "    alpha = number_of_visits[env.state, action]**-beta\n",
        "    Q[env.state, action] += alpha * td_error\n",
        "    env.step(action)\n",
        "\n",
        "optimal_actions = np.argmax(Q, axis=1)\n",
        "print(Q)\n",
        "print(optimal_actions)"
      ]
    }
  ],
  "metadata": {
    "colab": {
      "provenance": []
    },
    "kernelspec": {
      "display_name": "Python 3 (ipykernel)",
      "language": "python",
      "name": "python3"
    },
    "language_info": {
      "codemirror_mode": {
        "name": "ipython",
        "version": 3
      },
      "file_extension": ".py",
      "mimetype": "text/x-python",
      "name": "python",
      "nbconvert_exporter": "python",
      "pygments_lexer": "ipython3",
      "version": "3.9.10"
    },
    "vscode": {
      "interpreter": {
        "hash": "397704579725e15f5c7cb49fe5f0341eb7531c82d19f2c29d197e8b64ab5776b"
      }
    }
  },
  "nbformat": 4,
  "nbformat_minor": 5
}
